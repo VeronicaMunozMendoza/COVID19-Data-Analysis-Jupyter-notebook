{
 "cells": [
  {
   "cell_type": "markdown",
   "metadata": {},
   "source": [
    "## Covid-19 Exploratory Data Analysis"
   ]
  },
  {
   "cell_type": "markdown",
   "metadata": {},
   "source": [
    "### Goal of the Analysis: \n",
    "\n",
    "Addressing key unknown factors to understand the global and regional dynamics of COVID-19, its impact on healthcare systems, the effectiveness of public health measures and potential predictive patterns.\n",
    "\n",
    "This project aims to answer the following questions: \n",
    "\n",
    "\n",
    "* What are the trends of total cases and deaths globally over time?\n",
    "* Which continents/countries have the highest total cases and deaths?\n",
    "* How do total cases and deaths per million population vary across different regions?\n",
    "* How many ICU patients and hospitalised patients are there over time?\n",
    "* How do ICU patients per million and hospital patients per million vary across different regions?\n",
    "* How has the reproduction rate (R) of the virus varied over time and across different regions?\n",
    "* How does excess mortality vary across different countries and continents?\n",
    "* Can we predict future trends of COVID-19 cases and deaths using time series forecasting techniques?"
   ]
  },
  {
   "cell_type": "markdown",
   "metadata": {},
   "source": [
    "### Importing Data"
   ]
  },
  {
   "cell_type": "code",
   "execution_count": null,
   "metadata": {},
   "outputs": [],
   "source": [
    "# Importing libraries for Data Analysis and Viz.\n",
    "import pandas as pd                 # Library for data manipulation\n",
    "import matplotlib.pyplot as plt     # Library for creating static, animated, and interactive visualizations\n",
    "import numpy as np                  # Fundamental package for scientific computing \n",
    "\n",
    "print(\"All libraries imported successfully!\")"
   ]
  },
  {
   "cell_type": "markdown",
   "metadata": {},
   "source": [
    "### Initial Data Exploration and Data Cleaning\n",
    "\n",
    "These are the steps that I will follow in this section: \n",
    "-  Initial Dataset evaluation \n",
    "-  Feature selection\n",
    "-  General information: (data type, count of total values, number of unique values, etc.)\n",
    "-  Handling missing values \n",
    "-  Data Cleaning"
   ]
  },
  {
   "cell_type": "code",
   "execution_count": null,
   "metadata": {},
   "outputs": [],
   "source": [
    "# Creating a data frame & reading data from the .csv file\n",
    "\n",
    "df = pd.read_csv('Covid_Data.csv')"
   ]
  },
  {
   "cell_type": "code",
   "execution_count": null,
   "metadata": {},
   "outputs": [],
   "source": [
    "df.shape"
   ]
  },
  {
   "cell_type": "code",
   "execution_count": null,
   "metadata": {},
   "outputs": [],
   "source": [
    "# Retrieve the column names of the dataset and store them in a list\n",
    "column_names = df.columns.tolist()\n",
    "print(\"Column names:\")\n",
    "\n",
    "# Iterate through the list of column names and print each one\n",
    "for x in column_names:\n",
    "    print(x)"
   ]
  },
  {
   "cell_type": "code",
   "execution_count": null,
   "metadata": {},
   "outputs": [],
   "source": [
    "# View the first 5 rows\n",
    "\n",
    "df.head()  "
   ]
  },
  {
   "cell_type": "markdown",
   "metadata": {},
   "source": [
    "#### Initial Dataset Evaluation\n",
    "\n",
    "In our preliminary evaluation, we encountered a large dataset with 67 columns and 409,839 rows.\n",
    "\n",
    "We observed that many columns have a significant amount of missing values, which will be addressed during the Data Cleaning stage.\n",
    "\n",
    "The next step will be to perform **feature selection**. Given the size of the dataset, I will focus on the attributes that best serve the questions I am aiming to answer for this specific project."
   ]
  },
  {
   "cell_type": "markdown",
   "metadata": {},
   "source": [
    "#### Feature selection \n"
   ]
  },
  {
   "cell_type": "code",
   "execution_count": 20,
   "metadata": {},
   "outputs": [
    {
     "data": {
      "text/html": [
       "<div>\n",
       "<style scoped>\n",
       "    .dataframe tbody tr th:only-of-type {\n",
       "        vertical-align: middle;\n",
       "    }\n",
       "\n",
       "    .dataframe tbody tr th {\n",
       "        vertical-align: top;\n",
       "    }\n",
       "\n",
       "    .dataframe thead th {\n",
       "        text-align: right;\n",
       "    }\n",
       "</style>\n",
       "<table border=\"1\" class=\"dataframe\">\n",
       "  <thead>\n",
       "    <tr style=\"text-align: right;\">\n",
       "      <th></th>\n",
       "      <th>date</th>\n",
       "      <th>continent</th>\n",
       "      <th>location</th>\n",
       "      <th>total_cases</th>\n",
       "      <th>total_deaths</th>\n",
       "      <th>total_cases_per_million</th>\n",
       "      <th>total_deaths_per_million</th>\n",
       "      <th>icu_patients</th>\n",
       "      <th>hosp_patients</th>\n",
       "      <th>icu_patients_per_million</th>\n",
       "      <th>hosp_patients_per_million</th>\n",
       "      <th>reproduction_rate</th>\n",
       "      <th>excess_mortality</th>\n",
       "      <th>excess_mortality_cumulative</th>\n",
       "      <th>excess_mortality_cumulative_per_million</th>\n",
       "    </tr>\n",
       "  </thead>\n",
       "  <tbody>\n",
       "    <tr>\n",
       "      <th>0</th>\n",
       "      <td>2020-01-05</td>\n",
       "      <td>Asia</td>\n",
       "      <td>Afghanistan</td>\n",
       "      <td>NaN</td>\n",
       "      <td>NaN</td>\n",
       "      <td>NaN</td>\n",
       "      <td>NaN</td>\n",
       "      <td>NaN</td>\n",
       "      <td>NaN</td>\n",
       "      <td>NaN</td>\n",
       "      <td>NaN</td>\n",
       "      <td>NaN</td>\n",
       "      <td>NaN</td>\n",
       "      <td>NaN</td>\n",
       "      <td>NaN</td>\n",
       "    </tr>\n",
       "    <tr>\n",
       "      <th>1</th>\n",
       "      <td>2020-01-06</td>\n",
       "      <td>Asia</td>\n",
       "      <td>Afghanistan</td>\n",
       "      <td>NaN</td>\n",
       "      <td>NaN</td>\n",
       "      <td>NaN</td>\n",
       "      <td>NaN</td>\n",
       "      <td>NaN</td>\n",
       "      <td>NaN</td>\n",
       "      <td>NaN</td>\n",
       "      <td>NaN</td>\n",
       "      <td>NaN</td>\n",
       "      <td>NaN</td>\n",
       "      <td>NaN</td>\n",
       "      <td>NaN</td>\n",
       "    </tr>\n",
       "    <tr>\n",
       "      <th>2</th>\n",
       "      <td>2020-01-07</td>\n",
       "      <td>Asia</td>\n",
       "      <td>Afghanistan</td>\n",
       "      <td>NaN</td>\n",
       "      <td>NaN</td>\n",
       "      <td>NaN</td>\n",
       "      <td>NaN</td>\n",
       "      <td>NaN</td>\n",
       "      <td>NaN</td>\n",
       "      <td>NaN</td>\n",
       "      <td>NaN</td>\n",
       "      <td>NaN</td>\n",
       "      <td>NaN</td>\n",
       "      <td>NaN</td>\n",
       "      <td>NaN</td>\n",
       "    </tr>\n",
       "    <tr>\n",
       "      <th>3</th>\n",
       "      <td>2020-01-08</td>\n",
       "      <td>Asia</td>\n",
       "      <td>Afghanistan</td>\n",
       "      <td>NaN</td>\n",
       "      <td>NaN</td>\n",
       "      <td>NaN</td>\n",
       "      <td>NaN</td>\n",
       "      <td>NaN</td>\n",
       "      <td>NaN</td>\n",
       "      <td>NaN</td>\n",
       "      <td>NaN</td>\n",
       "      <td>NaN</td>\n",
       "      <td>NaN</td>\n",
       "      <td>NaN</td>\n",
       "      <td>NaN</td>\n",
       "    </tr>\n",
       "    <tr>\n",
       "      <th>4</th>\n",
       "      <td>2020-01-09</td>\n",
       "      <td>Asia</td>\n",
       "      <td>Afghanistan</td>\n",
       "      <td>NaN</td>\n",
       "      <td>NaN</td>\n",
       "      <td>NaN</td>\n",
       "      <td>NaN</td>\n",
       "      <td>NaN</td>\n",
       "      <td>NaN</td>\n",
       "      <td>NaN</td>\n",
       "      <td>NaN</td>\n",
       "      <td>NaN</td>\n",
       "      <td>NaN</td>\n",
       "      <td>NaN</td>\n",
       "      <td>NaN</td>\n",
       "    </tr>\n",
       "  </tbody>\n",
       "</table>\n",
       "</div>"
      ],
      "text/plain": [
       "         date continent     location  total_cases  total_deaths  \\\n",
       "0  2020-01-05      Asia  Afghanistan          NaN           NaN   \n",
       "1  2020-01-06      Asia  Afghanistan          NaN           NaN   \n",
       "2  2020-01-07      Asia  Afghanistan          NaN           NaN   \n",
       "3  2020-01-08      Asia  Afghanistan          NaN           NaN   \n",
       "4  2020-01-09      Asia  Afghanistan          NaN           NaN   \n",
       "\n",
       "   total_cases_per_million  total_deaths_per_million  icu_patients  \\\n",
       "0                      NaN                       NaN           NaN   \n",
       "1                      NaN                       NaN           NaN   \n",
       "2                      NaN                       NaN           NaN   \n",
       "3                      NaN                       NaN           NaN   \n",
       "4                      NaN                       NaN           NaN   \n",
       "\n",
       "   hosp_patients  icu_patients_per_million  hosp_patients_per_million  \\\n",
       "0            NaN                       NaN                        NaN   \n",
       "1            NaN                       NaN                        NaN   \n",
       "2            NaN                       NaN                        NaN   \n",
       "3            NaN                       NaN                        NaN   \n",
       "4            NaN                       NaN                        NaN   \n",
       "\n",
       "   reproduction_rate  excess_mortality  excess_mortality_cumulative  \\\n",
       "0                NaN               NaN                          NaN   \n",
       "1                NaN               NaN                          NaN   \n",
       "2                NaN               NaN                          NaN   \n",
       "3                NaN               NaN                          NaN   \n",
       "4                NaN               NaN                          NaN   \n",
       "\n",
       "   excess_mortality_cumulative_per_million  \n",
       "0                                      NaN  \n",
       "1                                      NaN  \n",
       "2                                      NaN  \n",
       "3                                      NaN  \n",
       "4                                      NaN  "
      ]
     },
     "execution_count": 20,
     "metadata": {},
     "output_type": "execute_result"
    }
   ],
   "source": [
    "# Performing a feature selection that will help answering the initial questions. \n",
    "\n",
    "selected_col = [\n",
    "     'date', 'continent', 'location', 'total_cases', 'total_deaths', \n",
    "    'total_cases_per_million', 'total_deaths_per_million', \n",
    "    'icu_patients', 'hosp_patients', 'icu_patients_per_million', \n",
    "    'hosp_patients_per_million', 'reproduction_rate', \n",
    "    'excess_mortality', 'excess_mortality_cumulative', \n",
    "    'excess_mortality_cumulative_per_million'\n",
    "]\n",
    "\n",
    "# Creating a new Data Frame with the selected columns \n",
    "\n",
    "data = df[selected_col]\n",
    "\n",
    "# Display the new Data Frame\n",
    "data.head()"
   ]
  },
  {
   "cell_type": "markdown",
   "metadata": {},
   "source": [
    "\n",
    "#### General information: (data type, count of total values, number of unique values, etc.)\n",
    "\n",
    "Here we are going to get a deeper understanding of the data we are dealing with. \n"
   ]
  },
  {
   "cell_type": "code",
   "execution_count": null,
   "metadata": {},
   "outputs": [],
   "source": [
    "data.shape"
   ]
  },
  {
   "cell_type": "code",
   "execution_count": null,
   "metadata": {},
   "outputs": [],
   "source": [
    "# Checking the data types of all the columns in the Data Frame\n",
    "print(data.dtypes)"
   ]
  },
  {
   "cell_type": "code",
   "execution_count": null,
   "metadata": {},
   "outputs": [],
   "source": [
    "# Counting total non-null values of each column\n",
    "print(data.count())"
   ]
  },
  {
   "cell_type": "code",
   "execution_count": null,
   "metadata": {},
   "outputs": [],
   "source": [
    "# Counting the number of unique values in each column\n",
    "print(data.nunique())"
   ]
  },
  {
   "cell_type": "markdown",
   "metadata": {},
   "source": [
    "#### Handle Missing Values (Initial Handling)\n",
    "\n",
    "Before I can continue with the analysis, I need to evaluate and handle the missing values. "
   ]
  },
  {
   "cell_type": "code",
   "execution_count": null,
   "metadata": {},
   "outputs": [],
   "source": [
    "# Total missing values in each column\n",
    "print(\"Total missing values in each column:\")\n",
    "print(data.isnull().sum())\n",
    "print()  # Print a blank line for better readability\n",
    "\n",
    "# Calculate the proportion of missing values in each column\n",
    "missing_data = data.isnull().mean() * 100\n",
    "print(\"Proportion of missing values in each column (%):\")\n",
    "print(missing_data)\n",
    "print()  # Print a blank line for better readability\n",
    "\n",
    "# Create a DataFrame to display both total missing values and proportion\n",
    "total_missing = data.isnull().sum()\n",
    "proportion_missing = data.isnull().mean() * 100\n",
    "\n",
    "missing_data_table = pd.DataFrame({\n",
    "    'Total Missing Values': total_missing,\n",
    "    'Proportion of Missing Values (%)': proportion_missing\n",
    "})\n",
    "\n",
    "print(\"Missing Data Table:\")\n",
    "print(missing_data_table)\n",
    "\n",
    "# Visualize missing values\n",
    "# Calculate the number of missing values for each column\n",
    "missing_values = data.isnull().sum()\n",
    "\n",
    "# Plot a histogram of the missing values\n",
    "missing_values.plot(kind='bar')\n",
    "plt.title('Missing Values Count per Column')\n",
    "plt.xlabel('Columns')\n",
    "plt.ylabel('Count of Missing Values')\n",
    "plt.show()"
   ]
  },
  {
   "cell_type": "markdown",
   "metadata": {},
   "source": [
    "As we can see above we have some things that we can work in regards missing values: \n",
    "1. For the 'continent' column we can categorized the Nan as 'unknown'.\n",
    "2. For the column 'total_cases' and 'total_death' we can handled missing values using an imputation method like the mean or mode. \n",
    "3. total_cases_per_million and total_death_per_million we can also use an imputation method. (TBC)\n",
    "4. We have identified that 7 out of 15 column where we have more than 90% of missing values. "
   ]
  },
  {
   "cell_type": "markdown",
   "metadata": {},
   "source": [
    "##### Data cleaning"
   ]
  },
  {
   "cell_type": "code",
   "execution_count": null,
   "metadata": {},
   "outputs": [],
   "source": []
  },
  {
   "cell_type": "markdown",
   "metadata": {},
   "source": [
    "### Exploratory Data Analysis "
   ]
  },
  {
   "cell_type": "markdown",
   "metadata": {},
   "source": [
    "#### Explore Range and central tendency: (min, max, mean, median, mode, quartiles)"
   ]
  },
  {
   "cell_type": "code",
   "execution_count": null,
   "metadata": {},
   "outputs": [],
   "source": [
    "# Set pandas display option to show numbers in standard notation\n",
    "pd.options.display.float_format = '{:.2f}'.format\n",
    "\n",
    "# Checking summary statistics for each of the columns of the Data frame.\n",
    "data.describe()"
   ]
  },
  {
   "cell_type": "code",
   "execution_count": null,
   "metadata": {},
   "outputs": [],
   "source": [
    "# box plots & histograms. \n",
    "# scatter plots\n",
    "# barplots \n",
    "# world map"
   ]
  },
  {
   "cell_type": "markdown",
   "metadata": {},
   "source": [
    "#### Check Normality and spread: (standard deviation, skewness, kurtosis)"
   ]
  },
  {
   "cell_type": "code",
   "execution_count": null,
   "metadata": {},
   "outputs": [],
   "source": [
    "# Impute numeric columns with mean\n",
    "numeric_cols = data.select_dtypes(include=['float64', 'int64']).columns\n",
    "data.loc[:, numeric_cols] = data[numeric_cols].fillna(data[numeric_cols].mean())\n",
    "\n",
    "# Impute categorical columns with mode\n",
    "categorical_cols = data.select_dtypes(include=['object']).columns\n",
    "data.loc[:, categorical_cols] = data[categorical_cols].apply(lambda x: x.fillna(x.mode()[0]))\n",
    "\n",
    "from scipy.stats import skew, kurtosis\n",
    "\n",
    "skewness = data[numeric_cols].apply(lambda x: skew(x.dropna()))\n",
    "kurt = data[numeric_cols].apply(lambda x: kurtosis(x.dropna()))\n",
    "\n",
    "print(\"Skewness:\\n\", skewness)\n",
    "print()\n",
    "print(\"Kurtosis:\\n\", kurt)\n",
    "\n"
   ]
  },
  {
   "cell_type": "markdown",
   "metadata": {},
   "source": [
    "#### Further Handling of Missing Values:"
   ]
  },
  {
   "cell_type": "markdown",
   "metadata": {},
   "source": [
    "### Futher review - Leave this for a different section"
   ]
  },
  {
   "cell_type": "code",
   "execution_count": null,
   "metadata": {},
   "outputs": [],
   "source": [
    "# Get unique values in the 'location, continent\" column\n",
    "unique_locations = df['continent'].nunique()\n",
    "unique_locations2 = df['location'].nunique()\n",
    "\n",
    "# Print the number of unique continents and locations\n",
    "print(\"Number of unique locations (continents):\", unique_locations)\n",
    "print(\"Number of unique locations (countries):\", unique_locations2)\n",
    "\n",
    "# Get unique values in the 'location' column\n",
    "unique_locations3 = df['continent'].unique()\n",
    "\n",
    "# Print or inspect the unique locations\n",
    "print(unique_locations3)"
   ]
  },
  {
   "cell_type": "code",
   "execution_count": null,
   "metadata": {},
   "outputs": [],
   "source": [
    "# Count NaN values in the 'column_name' column\n",
    "nan_count = data['continent'].isna().sum()\n",
    "\n",
    "# Print the count of NaN values\n",
    "print(\"Number of NaN values in column 'continent':\", nan_count)"
   ]
  },
  {
   "cell_type": "code",
   "execution_count": null,
   "metadata": {},
   "outputs": [],
   "source": [
    "# Filter rows where 'column_name' contains NaN values\n",
    "nan_rows = df[data['continent'].isna()]\n",
    "\n",
    "# Print or inspect the rows with NaN values\n",
    "print(\"Rows with NaN values in column 'continents':\")\n",
    "print(nan_rows)"
   ]
  }
 ],
 "metadata": {
  "kernelspec": {
   "display_name": "Python 3",
   "language": "python",
   "name": "python3"
  },
  "language_info": {
   "codemirror_mode": {
    "name": "ipython",
    "version": 3
   },
   "file_extension": ".py",
   "mimetype": "text/x-python",
   "name": "python",
   "nbconvert_exporter": "python",
   "pygments_lexer": "ipython3",
   "version": "3.12.4"
  }
 },
 "nbformat": 4,
 "nbformat_minor": 2
}
